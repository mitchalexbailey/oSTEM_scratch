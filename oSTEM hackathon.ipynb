{
 "cells": [
  {
   "cell_type": "code",
   "execution_count": 1,
   "metadata": {},
   "outputs": [],
   "source": [
    "import pandas as pd\n",
    "import nltk\n",
    "from nltk.corpus import stopwords\n",
    "from collections import Counter\n",
    "import requests"
   ]
  },
  {
   "cell_type": "code",
   "execution_count": 2,
   "metadata": {},
   "outputs": [],
   "source": [
    "full_dat = pd.read_excel('CleanedUp.xlsx')"
   ]
  },
  {
   "cell_type": "code",
   "execution_count": 3,
   "metadata": {},
   "outputs": [
    {
     "data": {
      "text/html": [
       "<div>\n",
       "<style scoped>\n",
       "    .dataframe tbody tr th:only-of-type {\n",
       "        vertical-align: middle;\n",
       "    }\n",
       "\n",
       "    .dataframe tbody tr th {\n",
       "        vertical-align: top;\n",
       "    }\n",
       "\n",
       "    .dataframe thead th {\n",
       "        text-align: right;\n",
       "    }\n",
       "</style>\n",
       "<table border=\"1\" class=\"dataframe\">\n",
       "  <thead>\n",
       "    <tr style=\"text-align: right;\">\n",
       "      <th></th>\n",
       "      <th>TYPE</th>\n",
       "      <th>ORGANIZATION</th>\n",
       "      <th>ADDRESS</th>\n",
       "      <th>CITY</th>\n",
       "      <th>STATE</th>\n",
       "      <th>ZIP</th>\n",
       "      <th>OFFICE PHONE</th>\n",
       "      <th>WEBSITE</th>\n",
       "      <th>DESCRIPTION/MISSION</th>\n",
       "      <th>KEYWORDS</th>\n",
       "      <th>AGE BRACKET</th>\n",
       "    </tr>\n",
       "  </thead>\n",
       "  <tbody>\n",
       "    <tr>\n",
       "      <th>0</th>\n",
       "      <td>Religious</td>\n",
       "      <td>Affirmation Houston Chapter (LDS)</td>\n",
       "      <td>3805 W Alabama Street #6102</td>\n",
       "      <td>Houston</td>\n",
       "      <td>TX</td>\n",
       "      <td>77027.0</td>\n",
       "      <td>7134879854</td>\n",
       "      <td>www.affirmation.org</td>\n",
       "      <td>As members and friends of the gay and lesbian ...</td>\n",
       "      <td>Religious, Christian, LGBT</td>\n",
       "      <td>NaN</td>\n",
       "    </tr>\n",
       "    <tr>\n",
       "      <th>1</th>\n",
       "      <td>Education &amp; Services</td>\n",
       "      <td>AIDS Foundation Houston, Inc.</td>\n",
       "      <td>6260 Westpark Dr. Suite 100</td>\n",
       "      <td>Houston</td>\n",
       "      <td>TX</td>\n",
       "      <td>77027.0</td>\n",
       "      <td>(713) 623-6796</td>\n",
       "      <td>www.aidshelp.org</td>\n",
       "      <td>AIDS foundation lead the innovative efforts in...</td>\n",
       "      <td>HIV/AIDS, health, housing, Medical Testing, Food</td>\n",
       "      <td>NaN</td>\n",
       "    </tr>\n",
       "    <tr>\n",
       "      <th>2</th>\n",
       "      <td>Social</td>\n",
       "      <td>Alpha Lambda Zeta Fraternity</td>\n",
       "      <td>NaN</td>\n",
       "      <td>NaN</td>\n",
       "      <td>NaN</td>\n",
       "      <td>NaN</td>\n",
       "      <td>(713) 449-4026</td>\n",
       "      <td>www.alphalambdazeta.com</td>\n",
       "      <td>Alpha Lambda Zeta (ΑΛΖ), an LGBT Greek-Lettere...</td>\n",
       "      <td>Lesbian, African-American, Black, POC</td>\n",
       "      <td>NaN</td>\n",
       "    </tr>\n",
       "    <tr>\n",
       "      <th>3</th>\n",
       "      <td>Education &amp; Services</td>\n",
       "      <td>South Texas College of Law - AMICUS</td>\n",
       "      <td>1303 San Jacinto MB #1</td>\n",
       "      <td>Houston</td>\n",
       "      <td>TX</td>\n",
       "      <td>77002.0</td>\n",
       "      <td>(713) 659-8040</td>\n",
       "      <td>http://www.stcl.edu/student-services/student-o...</td>\n",
       "      <td>Amicus educates, advises and informs its membe...</td>\n",
       "      <td>LGBT, education, school, GSA</td>\n",
       "      <td>NaN</td>\n",
       "    </tr>\n",
       "    <tr>\n",
       "      <th>4</th>\n",
       "      <td>History</td>\n",
       "      <td>Area Rainbow Collective History - Houston</td>\n",
       "      <td>NaN</td>\n",
       "      <td>NaN</td>\n",
       "      <td>NaN</td>\n",
       "      <td>NaN</td>\n",
       "      <td>NaN</td>\n",
       "      <td>http://houstonarch.pbworks.com/w/page/19526143...</td>\n",
       "      <td>ARCH was established as a coalition of Houston...</td>\n",
       "      <td>History, LGBT, arts</td>\n",
       "      <td>NaN</td>\n",
       "    </tr>\n",
       "  </tbody>\n",
       "</table>\n",
       "</div>"
      ],
      "text/plain": [
       "                   TYPE                               ORGANIZATION  \\\n",
       "0             Religious          Affirmation Houston Chapter (LDS)   \n",
       "1  Education & Services              AIDS Foundation Houston, Inc.   \n",
       "2                Social               Alpha Lambda Zeta Fraternity   \n",
       "3  Education & Services        South Texas College of Law - AMICUS   \n",
       "4               History  Area Rainbow Collective History - Houston   \n",
       "\n",
       "                       ADDRESS     CITY STATE      ZIP    OFFICE PHONE  \\\n",
       "0  3805 W Alabama Street #6102  Houston    TX  77027.0      7134879854   \n",
       "1  6260 Westpark Dr. Suite 100  Houston    TX  77027.0  (713) 623-6796   \n",
       "2                          NaN      NaN   NaN      NaN  (713) 449-4026   \n",
       "3       1303 San Jacinto MB #1  Houston    TX  77002.0  (713) 659-8040   \n",
       "4                          NaN      NaN   NaN      NaN             NaN   \n",
       "\n",
       "                                             WEBSITE  \\\n",
       "0                                www.affirmation.org   \n",
       "1                                   www.aidshelp.org   \n",
       "2                            www.alphalambdazeta.com   \n",
       "3  http://www.stcl.edu/student-services/student-o...   \n",
       "4  http://houstonarch.pbworks.com/w/page/19526143...   \n",
       "\n",
       "                                 DESCRIPTION/MISSION  \\\n",
       "0  As members and friends of the gay and lesbian ...   \n",
       "1  AIDS foundation lead the innovative efforts in...   \n",
       "2  Alpha Lambda Zeta (ΑΛΖ), an LGBT Greek-Lettere...   \n",
       "3  Amicus educates, advises and informs its membe...   \n",
       "4  ARCH was established as a coalition of Houston...   \n",
       "\n",
       "                                           KEYWORDS AGE BRACKET  \n",
       "0                        Religious, Christian, LGBT         NaN  \n",
       "1  HIV/AIDS, health, housing, Medical Testing, Food         NaN  \n",
       "2             Lesbian, African-American, Black, POC         NaN  \n",
       "3                      LGBT, education, school, GSA         NaN  \n",
       "4                               History, LGBT, arts         NaN  "
      ]
     },
     "execution_count": 3,
     "metadata": {},
     "output_type": "execute_result"
    }
   ],
   "source": [
    "full_dat.head()"
   ]
  },
  {
   "cell_type": "code",
   "execution_count": 4,
   "metadata": {},
   "outputs": [],
   "source": [
    "full_dat['description_reduced'] = full_dat['DESCRIPTION/MISSION'].fillna(\"na\").apply(lambda x: ' '.join([word for word in x.split() if word.lower() not in stopwords.words('english')]))"
   ]
  },
  {
   "cell_type": "code",
   "execution_count": 5,
   "metadata": {},
   "outputs": [],
   "source": [
    "words = []\n",
    "for item in list(full_dat['description_reduced']):\n",
    "    words += [x for x in item.split()]\n",
    "    \n",
    "word_count = Counter(words)"
   ]
  },
  {
   "cell_type": "code",
   "execution_count": 6,
   "metadata": {},
   "outputs": [],
   "source": [
    "high_hits = {x: y for x, y in word_count.items() if y > 4}"
   ]
  },
  {
   "cell_type": "code",
   "execution_count": 7,
   "metadata": {},
   "outputs": [
    {
     "data": {
      "text/plain": [
       "{'members': 7,\n",
       " 'gay': 13,\n",
       " 'community,': 6,\n",
       " 'within': 5,\n",
       " 'help': 10,\n",
       " 'HIV': 6,\n",
       " 'HIV/AIDS': 7,\n",
       " 'Houston,': 8,\n",
       " 'Inc.': 7,\n",
       " 'community': 36,\n",
       " 'individuals': 7,\n",
       " 'lives': 5,\n",
       " 'without': 5,\n",
       " 'LGBT': 19,\n",
       " 'promote': 9,\n",
       " 'positive': 5,\n",
       " 'political': 6,\n",
       " 'gay,': 10,\n",
       " 'lesbian,': 10,\n",
       " 'bisexual': 5,\n",
       " 'GLBT': 5,\n",
       " 'providing': 10,\n",
       " 'also': 6,\n",
       " 'Houston': 39,\n",
       " 'social': 21,\n",
       " 'educational': 7,\n",
       " 'bisexual,': 7,\n",
       " 'transgender,': 5,\n",
       " 'queer': 5,\n",
       " '&': 6,\n",
       " 'group': 14,\n",
       " 'dedicated': 12,\n",
       " 'Gay': 9,\n",
       " 'regardless': 5,\n",
       " 'sexual': 5,\n",
       " 'advance': 5,\n",
       " 'diverse': 5,\n",
       " 'love': 5,\n",
       " 'committed': 5,\n",
       " 'among': 7,\n",
       " 'adults': 7,\n",
       " 'like': 5,\n",
       " 'women': 7,\n",
       " 'one': 5,\n",
       " 'services': 15,\n",
       " '18': 6,\n",
       " 'health': 10,\n",
       " 'organization': 20,\n",
       " 'quality': 5,\n",
       " 'rights': 7,\n",
       " 'community.': 6,\n",
       " 'Center': 10,\n",
       " 'mission': 14,\n",
       " 'LGBTQ': 13,\n",
       " 'promoting': 5,\n",
       " 'men': 20,\n",
       " 'support': 9,\n",
       " 'Texas': 12,\n",
       " 'provide': 19,\n",
       " 'foster': 5,\n",
       " 'safe': 11,\n",
       " 'transgender': 6,\n",
       " 'ages': 6,\n",
       " 'support,': 6,\n",
       " 'non-profit': 6,\n",
       " 'serving': 5,\n",
       " 'area.': 5,\n",
       " 'living': 6,\n",
       " 'years': 5,\n",
       " 'us': 6,\n",
       " 'people': 17,\n",
       " 'provides': 9,\n",
       " 'enjoy': 5,\n",
       " 'youth': 10,\n",
       " 'Transgender': 8,\n",
       " 'Asian': 5,\n",
       " 'Health': 5,\n",
       " 'care.': 5,\n",
       " 'school': 5,\n",
       " 'Houston.': 5,\n",
       " 'nonprofit': 5,\n",
       " 'Harris': 6,\n",
       " 'place': 5,\n",
       " 'care': 5,\n",
       " 'homelessness': 5,\n",
       " 'housing': 5}"
      ]
     },
     "execution_count": 7,
     "metadata": {},
     "output_type": "execute_result"
    }
   ],
   "source": [
    "high_hits"
   ]
  },
  {
   "cell_type": "code",
   "execution_count": null,
   "metadata": {},
   "outputs": [],
   "source": [
    "def get_synonyms(word):\n",
    "    base_url = \"http://thesaurus.altervista.org/thesaurus/v1?key=XY4VGGI2PmNP9HPdaBMY&language=en_US&output=json&word=\"\n",
    "    r = requests.get(base_url + word)\n",
    "    response = r.json()\n",
    "    clean = [word]\n",
    "    try:\n",
    "        combine = [x['list']['synonyms'] for x in response['response']]\n",
    "        for item in combine:\n",
    "            for word in item.split('|'):\n",
    "                clean += [word.split(' (')[0]]\n",
    "    except:\n",
    "        pass\n",
    "    return list(set(clean))\n",
    "\n",
    "\n",
    "def flatten(lst):\n",
    "    res = []\n",
    "    for item in lst:\n",
    "        if type(item) == list:\n",
    "            for subitem in item:\n",
    "                res += [subitem]\n",
    "        else:\n",
    "            res += [item]\n",
    "    return res\n",
    "            \n",
    "\n",
    "full_dat['search_terms'] = full_dat['KEYWORDS'].apply(lambda x: ','.join(flatten([get_synonyms(word) for word in x.split(', ')])))\n"
   ]
  },
  {
   "cell_type": "code",
   "execution_count": null,
   "metadata": {},
   "outputs": [],
   "source": [
    "full_dat['search_terms']"
   ]
  },
  {
   "cell_type": "code",
   "execution_count": null,
   "metadata": {},
   "outputs": [],
   "source": [
    "all_search_terms = []\n",
    "for item in list(full_dat['search_terms']):\n",
    "    for word in item.split(\", \"):   \n",
    "        all_search_terms += [word]\n",
    "        \n",
    "word_counts = Counter(all_search_terms)\n",
    "\n",
    "{k: v for k, v in word_counts.items() if v > 4}"
   ]
  },
  {
   "cell_type": "code",
   "execution_count": null,
   "metadata": {},
   "outputs": [],
   "source": [
    "test_message = \"hi, vtwmk wtknvltkr looking for a safe space\"\n",
    "\n",
    "def get_hits(msg):\n",
    "    words = ''.join([x for x in test_message if x not in string.punctuation]).split()\n",
    "    hits = []\n",
    "    for item in words:\n",
    "        temp_res = full_dat[full_dat['search_terms'].str.contains(item)]\n",
    "    return temp_res\n",
    "    \n",
    "\n",
    "res = get_hits(test_message)"
   ]
  },
  {
   "cell_type": "code",
   "execution_count": null,
   "metadata": {},
   "outputs": [],
   "source": [
    "# rank search terms by number of entries with the number of occurences (i.e. rare words weighted more heavily)\n",
    "res['search_terms'][139]"
   ]
  },
  {
   "cell_type": "code",
   "execution_count": null,
   "metadata": {},
   "outputs": [],
   "source": [
    "org_html = full_dat[['TYPE', 'ORGANIZATION', 'DESCRIPTION/MISSION', 'WEBSITE', 'KEYWORDS']].to_html()"
   ]
  },
  {
   "cell_type": "code",
   "execution_count": null,
   "metadata": {},
   "outputs": [],
   "source": [
    "org_mapping = full_dat[['search_terms']].to_json()"
   ]
  },
  {
   "cell_type": "code",
   "execution_count": null,
   "metadata": {},
   "outputs": [],
   "source": [
    "rows = org_html.split(\"<tr>\")"
   ]
  },
  {
   "cell_type": "code",
   "execution_count": null,
   "metadata": {},
   "outputs": [],
   "source": [
    "i = 1\n",
    "while i < len(rows):\n",
    "    id = rows[i].split(\"</th>\")[0].split(\">\")[-1]\n",
    "    rows[i] = f\"<tr id={id}>\" + rows[i]\n",
    "    i += 1\n",
    "    \n",
    "org_html = \"\".join(rows)\n",
    "\n",
    "lines = org_html.split(\"\\n\")\n",
    "i = 9\n",
    "while i < len(lines):  \n",
    "     if \"<th>\" in lines[i]:\n",
    "         lines.remove(lines[i])\n",
    "     if \"www\" in lines[i] or \"http\" in lines[i] and \"<td>\" in lines[i]:\n",
    "         website = lines[i].split(\">\")[1].split(\"<\")[0]\n",
    "         lines[i] = f\"<td><a href='{website}'>{website}</a></td>\"\n",
    "     i += 1\n",
    "\n",
    "org_html = '\\n'.join(lines)"
   ]
  },
  {
   "cell_type": "code",
   "execution_count": null,
   "metadata": {},
   "outputs": [],
   "source": [
    "with open(\"oSTEM2018_datatable.html\", \"w\") as f:\n",
    "    f.write(org_html)"
   ]
  },
  {
   "cell_type": "code",
   "execution_count": null,
   "metadata": {},
   "outputs": [],
   "source": [
    "temp = full_dat[['search_terms']]\n",
    "\n",
    "mapp = {}\n",
    "i = 0\n",
    "while i < len(temp):\n",
    "    search_terms = temp.iloc[i].at['search_terms']\n",
    "    if search_terms is not None:\n",
    "        search_terms = search_terms.split(\",\")\n",
    "        for item in search_terms:\n",
    "            if item in mapp.keys():\n",
    "                mapp[item.lower()] += [i]\n",
    "            else:\n",
    "                mapp[item.lower()] = [i]\n",
    "    i += 1\n",
    "    \n",
    "mapp"
   ]
  },
  {
   "cell_type": "code",
   "execution_count": null,
   "metadata": {},
   "outputs": [],
   "source": [
    "import json\n",
    "\n",
    "json.dump(mapp, open(\"oSTEM_search_mapping.json\", \"w\"))"
   ]
  },
  {
   "cell_type": "code",
   "execution_count": null,
   "metadata": {},
   "outputs": [],
   "source": []
  }
 ],
 "metadata": {
  "kernelspec": {
   "display_name": "Python 3",
   "language": "python",
   "name": "python3"
  },
  "language_info": {
   "codemirror_mode": {
    "name": "ipython",
    "version": 3
   },
   "file_extension": ".py",
   "mimetype": "text/x-python",
   "name": "python",
   "nbconvert_exporter": "python",
   "pygments_lexer": "ipython3",
   "version": "3.6.5"
  }
 },
 "nbformat": 4,
 "nbformat_minor": 2
}
